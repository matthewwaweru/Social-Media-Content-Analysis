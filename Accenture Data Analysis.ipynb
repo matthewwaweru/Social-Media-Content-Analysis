{
 "cells": [
  {
   "cell_type": "code",
   "execution_count": 46,
   "id": "6763f157",
   "metadata": {},
   "outputs": [],
   "source": [
    "import numpy as np\n",
    "import pandas as pd\n",
    "import seaborn as sns\n",
    "import matplotlib.pyplot as plt"
   ]
  },
  {
   "cell_type": "code",
   "execution_count": null,
   "id": "e0c966b7",
   "metadata": {},
   "outputs": [],
   "source": [
    "path = '/home/matthew/Downloads/Accenture/Task 2/Cleaned Dataset.xlsx'"
   ]
  },
  {
   "cell_type": "code",
   "execution_count": 12,
   "id": "7300a9d8",
   "metadata": {},
   "outputs": [],
   "source": [
    "df=pd.read_excel(path)"
   ]
  },
  {
   "cell_type": "code",
   "execution_count": 13,
   "id": "8cdb6fd9",
   "metadata": {},
   "outputs": [
    {
     "data": {
      "text/html": [
       "<div>\n",
       "<style scoped>\n",
       "    .dataframe tbody tr th:only-of-type {\n",
       "        vertical-align: middle;\n",
       "    }\n",
       "\n",
       "    .dataframe tbody tr th {\n",
       "        vertical-align: top;\n",
       "    }\n",
       "\n",
       "    .dataframe thead th {\n",
       "        text-align: right;\n",
       "    }\n",
       "</style>\n",
       "<table border=\"1\" class=\"dataframe\">\n",
       "  <thead>\n",
       "    <tr style=\"text-align: right;\">\n",
       "      <th></th>\n",
       "      <th>Content ID</th>\n",
       "      <th>User ID</th>\n",
       "      <th>Type</th>\n",
       "      <th>Category</th>\n",
       "      <th>Age</th>\n",
       "      <th>Location</th>\n",
       "      <th>Reaction Type</th>\n",
       "      <th>Reaction Score</th>\n",
       "    </tr>\n",
       "  </thead>\n",
       "  <tbody>\n",
       "    <tr>\n",
       "      <th>0</th>\n",
       "      <td>97522e57-d9ab-4bd6-97bf-c24d952602d2</td>\n",
       "      <td>8d3cd87d-8a31-4935-9a4f-b319bfe05f31</td>\n",
       "      <td>photo</td>\n",
       "      <td>Studying</td>\n",
       "      <td>13.0</td>\n",
       "      <td>1950 Michael Mill\\nLindashire, KY 08693</td>\n",
       "      <td>disgust</td>\n",
       "      <td>0.0</td>\n",
       "    </tr>\n",
       "    <tr>\n",
       "      <th>1</th>\n",
       "      <td>9f737e0a-3cdd-4d29-9d24-753f4e3be810</td>\n",
       "      <td>beb1f34e-7870-46d6-9fc7-2e12eb83ce43</td>\n",
       "      <td>photo</td>\n",
       "      <td>healthy eating</td>\n",
       "      <td>13.0</td>\n",
       "      <td>Unit 3999 Box 7280\\nDPO AP 36681</td>\n",
       "      <td>dislike</td>\n",
       "      <td>10.0</td>\n",
       "    </tr>\n",
       "    <tr>\n",
       "      <th>2</th>\n",
       "      <td>230c4e4d-70c3-461d-b42c-ec09396efb3f</td>\n",
       "      <td>a5c65404-5894-4b87-82f2-d787cbee86b4</td>\n",
       "      <td>photo</td>\n",
       "      <td>healthy eating</td>\n",
       "      <td>5.0</td>\n",
       "      <td>PSC 8837, Box 6590\\nAPO AE 71776</td>\n",
       "      <td>hate</td>\n",
       "      <td>5.0</td>\n",
       "    </tr>\n",
       "    <tr>\n",
       "      <th>3</th>\n",
       "      <td>356fff80-da4d-4785-9f43-bc1261031dc6</td>\n",
       "      <td>9fb4ce88-fac1-406c-8544-1a899cee7aaf</td>\n",
       "      <td>photo</td>\n",
       "      <td>technology</td>\n",
       "      <td>0.0</td>\n",
       "      <td>703 Brandy Road\\nFisherborough, ND 30873</td>\n",
       "      <td>worried</td>\n",
       "      <td>12.0</td>\n",
       "    </tr>\n",
       "    <tr>\n",
       "      <th>4</th>\n",
       "      <td>01ab84dd-6364-4236-abbb-3f237db77180</td>\n",
       "      <td>e206e31b-5f85-4964-b6ea-d7ee5324def1</td>\n",
       "      <td>video</td>\n",
       "      <td>food</td>\n",
       "      <td>31.0</td>\n",
       "      <td>18111 Jones Spurs Suite 756\\nNew Lauren, PA 29244</td>\n",
       "      <td>scared</td>\n",
       "      <td>15.0</td>\n",
       "    </tr>\n",
       "  </tbody>\n",
       "</table>\n",
       "</div>"
      ],
      "text/plain": [
       "                             Content ID                               User ID  \\\n",
       "0  97522e57-d9ab-4bd6-97bf-c24d952602d2  8d3cd87d-8a31-4935-9a4f-b319bfe05f31   \n",
       "1  9f737e0a-3cdd-4d29-9d24-753f4e3be810  beb1f34e-7870-46d6-9fc7-2e12eb83ce43   \n",
       "2  230c4e4d-70c3-461d-b42c-ec09396efb3f  a5c65404-5894-4b87-82f2-d787cbee86b4   \n",
       "3  356fff80-da4d-4785-9f43-bc1261031dc6  9fb4ce88-fac1-406c-8544-1a899cee7aaf   \n",
       "4  01ab84dd-6364-4236-abbb-3f237db77180  e206e31b-5f85-4964-b6ea-d7ee5324def1   \n",
       "\n",
       "    Type        Category   Age  \\\n",
       "0  photo        Studying  13.0   \n",
       "1  photo  healthy eating  13.0   \n",
       "2  photo  healthy eating   5.0   \n",
       "3  photo      technology   0.0   \n",
       "4  video            food  31.0   \n",
       "\n",
       "                                            Location Reaction Type  \\\n",
       "0            1950 Michael Mill\\nLindashire, KY 08693       disgust   \n",
       "1                   Unit 3999 Box 7280\\nDPO AP 36681       dislike   \n",
       "2                   PSC 8837, Box 6590\\nAPO AE 71776          hate   \n",
       "3           703 Brandy Road\\nFisherborough, ND 30873       worried   \n",
       "4  18111 Jones Spurs Suite 756\\nNew Lauren, PA 29244        scared   \n",
       "\n",
       "   Reaction Score  \n",
       "0             0.0  \n",
       "1            10.0  \n",
       "2             5.0  \n",
       "3            12.0  \n",
       "4            15.0  "
      ]
     },
     "execution_count": 13,
     "metadata": {},
     "output_type": "execute_result"
    }
   ],
   "source": [
    "df.head()"
   ]
  },
  {
   "cell_type": "code",
   "execution_count": 14,
   "id": "89b431a8",
   "metadata": {},
   "outputs": [],
   "source": [
    "df=df.drop(['Content ID','User ID'], axis=1)"
   ]
  },
  {
   "cell_type": "code",
   "execution_count": 15,
   "id": "35c96842",
   "metadata": {},
   "outputs": [
    {
     "data": {
      "text/html": [
       "<div>\n",
       "<style scoped>\n",
       "    .dataframe tbody tr th:only-of-type {\n",
       "        vertical-align: middle;\n",
       "    }\n",
       "\n",
       "    .dataframe tbody tr th {\n",
       "        vertical-align: top;\n",
       "    }\n",
       "\n",
       "    .dataframe thead th {\n",
       "        text-align: right;\n",
       "    }\n",
       "</style>\n",
       "<table border=\"1\" class=\"dataframe\">\n",
       "  <thead>\n",
       "    <tr style=\"text-align: right;\">\n",
       "      <th></th>\n",
       "      <th>Type</th>\n",
       "      <th>Category</th>\n",
       "      <th>Age</th>\n",
       "      <th>Location</th>\n",
       "      <th>Reaction Type</th>\n",
       "      <th>Reaction Score</th>\n",
       "    </tr>\n",
       "  </thead>\n",
       "  <tbody>\n",
       "    <tr>\n",
       "      <th>0</th>\n",
       "      <td>photo</td>\n",
       "      <td>Studying</td>\n",
       "      <td>13.0</td>\n",
       "      <td>1950 Michael Mill\\nLindashire, KY 08693</td>\n",
       "      <td>disgust</td>\n",
       "      <td>0.0</td>\n",
       "    </tr>\n",
       "    <tr>\n",
       "      <th>1</th>\n",
       "      <td>photo</td>\n",
       "      <td>healthy eating</td>\n",
       "      <td>13.0</td>\n",
       "      <td>Unit 3999 Box 7280\\nDPO AP 36681</td>\n",
       "      <td>dislike</td>\n",
       "      <td>10.0</td>\n",
       "    </tr>\n",
       "    <tr>\n",
       "      <th>2</th>\n",
       "      <td>photo</td>\n",
       "      <td>healthy eating</td>\n",
       "      <td>5.0</td>\n",
       "      <td>PSC 8837, Box 6590\\nAPO AE 71776</td>\n",
       "      <td>hate</td>\n",
       "      <td>5.0</td>\n",
       "    </tr>\n",
       "    <tr>\n",
       "      <th>3</th>\n",
       "      <td>photo</td>\n",
       "      <td>technology</td>\n",
       "      <td>0.0</td>\n",
       "      <td>703 Brandy Road\\nFisherborough, ND 30873</td>\n",
       "      <td>worried</td>\n",
       "      <td>12.0</td>\n",
       "    </tr>\n",
       "    <tr>\n",
       "      <th>4</th>\n",
       "      <td>video</td>\n",
       "      <td>food</td>\n",
       "      <td>31.0</td>\n",
       "      <td>18111 Jones Spurs Suite 756\\nNew Lauren, PA 29244</td>\n",
       "      <td>scared</td>\n",
       "      <td>15.0</td>\n",
       "    </tr>\n",
       "  </tbody>\n",
       "</table>\n",
       "</div>"
      ],
      "text/plain": [
       "    Type        Category   Age  \\\n",
       "0  photo        Studying  13.0   \n",
       "1  photo  healthy eating  13.0   \n",
       "2  photo  healthy eating   5.0   \n",
       "3  photo      technology   0.0   \n",
       "4  video            food  31.0   \n",
       "\n",
       "                                            Location Reaction Type  \\\n",
       "0            1950 Michael Mill\\nLindashire, KY 08693       disgust   \n",
       "1                   Unit 3999 Box 7280\\nDPO AP 36681       dislike   \n",
       "2                   PSC 8837, Box 6590\\nAPO AE 71776          hate   \n",
       "3           703 Brandy Road\\nFisherborough, ND 30873       worried   \n",
       "4  18111 Jones Spurs Suite 756\\nNew Lauren, PA 29244        scared   \n",
       "\n",
       "   Reaction Score  \n",
       "0             0.0  \n",
       "1            10.0  \n",
       "2             5.0  \n",
       "3            12.0  \n",
       "4            15.0  "
      ]
     },
     "execution_count": 15,
     "metadata": {},
     "output_type": "execute_result"
    }
   ],
   "source": [
    "df.head()"
   ]
  },
  {
   "cell_type": "code",
   "execution_count": 16,
   "id": "c34ccd9c",
   "metadata": {},
   "outputs": [
    {
     "data": {
      "text/plain": [
       "Index(['Type', 'Category', 'Age', 'Location', 'Reaction Type',\n",
       "       'Reaction Score'],\n",
       "      dtype='object')"
      ]
     },
     "execution_count": 16,
     "metadata": {},
     "output_type": "execute_result"
    }
   ],
   "source": [
    "df.columns"
   ]
  },
  {
   "cell_type": "code",
   "execution_count": 21,
   "id": "8477a743",
   "metadata": {},
   "outputs": [
    {
     "data": {
      "text/plain": [
       "array(['studying', 'healthy eating', 'technology', 'food', 'cooking',\n",
       "       'dogs', 'soccer', 'public speaking', 'science', 'tennis', 'travel',\n",
       "       'fitness', 'education', 'veganism', 'animals', 'culture'],\n",
       "      dtype=object)"
      ]
     },
     "execution_count": 21,
     "metadata": {},
     "output_type": "execute_result"
    }
   ],
   "source": [
    "df['Category'].unique()"
   ]
  },
  {
   "cell_type": "code",
   "execution_count": 20,
   "id": "6da861e4",
   "metadata": {},
   "outputs": [],
   "source": [
    "df['Category']=df['Category'].apply(lambda x:x.lower())"
   ]
  },
  {
   "cell_type": "code",
   "execution_count": 35,
   "id": "d3e54c1f",
   "metadata": {},
   "outputs": [],
   "source": [
    "category=df.groupby('Category')['Reaction Score'].sum().sort_values(ascending=False)"
   ]
  },
  {
   "cell_type": "code",
   "execution_count": 36,
   "id": "b39aad7b",
   "metadata": {},
   "outputs": [
    {
     "data": {
      "text/plain": [
       "4.8"
      ]
     },
     "execution_count": 36,
     "metadata": {},
     "output_type": "execute_result"
    }
   ],
   "source": [
    "len(category)*0.3"
   ]
  },
  {
   "cell_type": "code",
   "execution_count": 39,
   "id": "7a259eb1",
   "metadata": {},
   "outputs": [],
   "source": [
    "category=category[:5]"
   ]
  },
  {
   "cell_type": "code",
   "execution_count": 42,
   "id": "3bb5fa98",
   "metadata": {},
   "outputs": [
    {
     "data": {
      "text/plain": [
       "Category\n",
       "travel        2905.0\n",
       "culture       2822.0\n",
       "science       2603.0\n",
       "technology    2567.0\n",
       "fitness       2500.0\n",
       "Name: Reaction Score, dtype: float64"
      ]
     },
     "execution_count": 42,
     "metadata": {},
     "output_type": "execute_result"
    }
   ],
   "source": [
    "category"
   ]
  },
  {
   "cell_type": "code",
   "execution_count": 40,
   "id": "ec3fb6c5",
   "metadata": {},
   "outputs": [
    {
     "data": {
      "text/plain": [
       "[<matplotlib.lines.Line2D at 0x7f5d42abbd60>]"
      ]
     },
     "execution_count": 40,
     "metadata": {},
     "output_type": "execute_result"
    },
    {
     "data": {
      "image/png": "[encoded data removed]",
      "text/plain": [
       "<Figure size 720x432 with 1 Axes>"
      ]
     },
     "metadata": {
      "needs_background": "light"
     },
     "output_type": "display_data"
    }
   ],
   "source": [
    "plt.figure(figsize=(10,6))\n",
    "plt.plot(category.index, category.values)"
   ]
  },
  {
   "cell_type": "code",
   "execution_count": 51,
   "id": "28590141",
   "metadata": {},
   "outputs": [],
   "source": [
    "df_top_5=df[(df['Category']=='travel') | (df['Category']=='culture') | (df['Category']=='science') | (df['Category']=='technology') | (df['Category']=='fitness')]"
   ]
  },
  {
   "cell_type": "code",
   "execution_count": 52,
   "id": "9091c4ee",
   "metadata": {},
   "outputs": [
    {
     "data": {
      "text/html": [
       "<div>\n",
       "<style scoped>\n",
       "    .dataframe tbody tr th:only-of-type {\n",
       "        vertical-align: middle;\n",
       "    }\n",
       "\n",
       "    .dataframe tbody tr th {\n",
       "        vertical-align: top;\n",
       "    }\n",
       "\n",
       "    .dataframe thead th {\n",
       "        text-align: right;\n",
       "    }\n",
       "</style>\n",
       "<table border=\"1\" class=\"dataframe\">\n",
       "  <thead>\n",
       "    <tr style=\"text-align: right;\">\n",
       "      <th></th>\n",
       "      <th>Type</th>\n",
       "      <th>Category</th>\n",
       "      <th>Age</th>\n",
       "      <th>Location</th>\n",
       "      <th>Reaction Type</th>\n",
       "      <th>Reaction Score</th>\n",
       "    </tr>\n",
       "  </thead>\n",
       "  <tbody>\n",
       "    <tr>\n",
       "      <th>3</th>\n",
       "      <td>photo</td>\n",
       "      <td>technology</td>\n",
       "      <td>0.0</td>\n",
       "      <td>703 Brandy Road\\nFisherborough, ND 30873</td>\n",
       "      <td>worried</td>\n",
       "      <td>12.0</td>\n",
       "    </tr>\n",
       "    <tr>\n",
       "      <th>7</th>\n",
       "      <td>video</td>\n",
       "      <td>technology</td>\n",
       "      <td>1.0</td>\n",
       "      <td>890 Mikayla Ferry\\nMaryport, KY 28636</td>\n",
       "      <td>want</td>\n",
       "      <td>70.0</td>\n",
       "    </tr>\n",
       "    <tr>\n",
       "      <th>10</th>\n",
       "      <td>GIF</td>\n",
       "      <td>science</td>\n",
       "      <td>27.0</td>\n",
       "      <td>274 Deleon Estates\\nLake Jennifer, TX 07214</td>\n",
       "      <td>super love</td>\n",
       "      <td>75.0</td>\n",
       "    </tr>\n",
       "    <tr>\n",
       "      <th>13</th>\n",
       "      <td>audio</td>\n",
       "      <td>travel</td>\n",
       "      <td>35.0</td>\n",
       "      <td>40960 Shaffer Extensions Suite 928\\nPerezberg,...</td>\n",
       "      <td>intrigued</td>\n",
       "      <td>45.0</td>\n",
       "    </tr>\n",
       "    <tr>\n",
       "      <th>14</th>\n",
       "      <td>GIF</td>\n",
       "      <td>fitness</td>\n",
       "      <td>20.0</td>\n",
       "      <td>6967 Gonzalez Roads Suite 288\\nLake Rose, DC 6...</td>\n",
       "      <td>interested</td>\n",
       "      <td>30.0</td>\n",
       "    </tr>\n",
       "    <tr>\n",
       "      <th>...</th>\n",
       "      <td>...</td>\n",
       "      <td>...</td>\n",
       "      <td>...</td>\n",
       "      <td>...</td>\n",
       "      <td>...</td>\n",
       "      <td>...</td>\n",
       "    </tr>\n",
       "    <tr>\n",
       "      <th>951</th>\n",
       "      <td>video</td>\n",
       "      <td>fitness</td>\n",
       "      <td>0.0</td>\n",
       "      <td>737 Frederick Squares Suite 479\\nEast Tiffanyh...</td>\n",
       "      <td>indifferent</td>\n",
       "      <td>20.0</td>\n",
       "    </tr>\n",
       "    <tr>\n",
       "      <th>956</th>\n",
       "      <td>photo</td>\n",
       "      <td>science</td>\n",
       "      <td>39.0</td>\n",
       "      <td>3272 Hall Camp Suite 066\\nEast Nathanborough, ...</td>\n",
       "      <td>cherish</td>\n",
       "      <td>70.0</td>\n",
       "    </tr>\n",
       "    <tr>\n",
       "      <th>958</th>\n",
       "      <td>GIF</td>\n",
       "      <td>technology</td>\n",
       "      <td>38.0</td>\n",
       "      <td>39270 Linda Wall Apt. 032\\nJonesburgh, AZ 55032</td>\n",
       "      <td>intrigued</td>\n",
       "      <td>45.0</td>\n",
       "    </tr>\n",
       "    <tr>\n",
       "      <th>960</th>\n",
       "      <td>GIF</td>\n",
       "      <td>culture</td>\n",
       "      <td>20.0</td>\n",
       "      <td>69010 Clark Tunnel\\nAndrewhaven, OK 11456</td>\n",
       "      <td>interested</td>\n",
       "      <td>30.0</td>\n",
       "    </tr>\n",
       "    <tr>\n",
       "      <th>961</th>\n",
       "      <td>audio</td>\n",
       "      <td>technology</td>\n",
       "      <td>38.0</td>\n",
       "      <td>625 George Vista Suite 798\\nPort Leroymouth, I...</td>\n",
       "      <td>dislike</td>\n",
       "      <td>10.0</td>\n",
       "    </tr>\n",
       "  </tbody>\n",
       "</table>\n",
       "<p>330 rows × 6 columns</p>\n",
       "</div>"
      ],
      "text/plain": [
       "      Type    Category   Age  \\\n",
       "3    photo  technology   0.0   \n",
       "7    video  technology   1.0   \n",
       "10     GIF     science  27.0   \n",
       "13   audio      travel  35.0   \n",
       "14     GIF     fitness  20.0   \n",
       "..     ...         ...   ...   \n",
       "951  video     fitness   0.0   \n",
       "956  photo     science  39.0   \n",
       "958    GIF  technology  38.0   \n",
       "960    GIF     culture  20.0   \n",
       "961  audio  technology  38.0   \n",
       "\n",
       "                                              Location Reaction Type  \\\n",
       "3             703 Brandy Road\\nFisherborough, ND 30873       worried   \n",
       "7                890 Mikayla Ferry\\nMaryport, KY 28636          want   \n",
       "10         274 Deleon Estates\\nLake Jennifer, TX 07214    super love   \n",
       "13   40960 Shaffer Extensions Suite 928\\nPerezberg,...     intrigued   \n",
       "14   6967 Gonzalez Roads Suite 288\\nLake Rose, DC 6...    interested   \n",
       "..                                                 ...           ...   \n",
       "951  737 Frederick Squares Suite 479\\nEast Tiffanyh...   indifferent   \n",
       "956  3272 Hall Camp Suite 066\\nEast Nathanborough, ...       cherish   \n",
       "958    39270 Linda Wall Apt. 032\\nJonesburgh, AZ 55032     intrigued   \n",
       "960          69010 Clark Tunnel\\nAndrewhaven, OK 11456    interested   \n",
       "961  625 George Vista Suite 798\\nPort Leroymouth, I...       dislike   \n",
       "\n",
       "     Reaction Score  \n",
       "3              12.0  \n",
       "7              70.0  \n",
       "10             75.0  \n",
       "13             45.0  \n",
       "14             30.0  \n",
       "..              ...  \n",
       "951            20.0  \n",
       "956            70.0  \n",
       "958            45.0  \n",
       "960            30.0  \n",
       "961            10.0  \n",
       "\n",
       "[330 rows x 6 columns]"
      ]
     },
     "execution_count": 52,
     "metadata": {},
     "output_type": "execute_result"
    }
   ],
   "source": [
    "df_top_5"
   ]
  },
  {
   "cell_type": "code",
   "execution_count": 61,
   "id": "0f0b493b",
   "metadata": {},
   "outputs": [
    {
     "data": {
      "text/plain": [
       "Category\n",
       "culture       43.415385\n",
       "fitness       40.983607\n",
       "science       38.850746\n",
       "technology    37.750000\n",
       "travel        42.101449\n",
       "Name: Reaction Score, dtype: float64"
      ]
     },
     "execution_count": 61,
     "metadata": {},
     "output_type": "execute_result"
    }
   ],
   "source": [
    "df_top_5.groupby('Category')['Reaction Score'].mean()"
   ]
  },
  {
   "cell_type": "code",
   "execution_count": 69,
   "id": "6eabfba4",
   "metadata": {},
   "outputs": [
    {
     "data": {
      "text/plain": [
       "Category\n",
       "travel        2905.0\n",
       "culture       2822.0\n",
       "science       2603.0\n",
       "technology    2567.0\n",
       "fitness       2500.0\n",
       "Name: Reaction Score, dtype: float64"
      ]
     },
     "execution_count": 69,
     "metadata": {},
     "output_type": "execute_result"
    }
   ],
   "source": [
    "df_top_5.groupby('Category')['Reaction Score'].sum().sort_values(ascending=False)"
   ]
  },
  {
   "cell_type": "code",
   "execution_count": 63,
   "id": "b814d31c",
   "metadata": {},
   "outputs": [
    {
     "data": {
      "text/plain": [
       "Category\n",
       "travel        50.0\n",
       "culture       45.0\n",
       "fitness       45.0\n",
       "science       35.0\n",
       "technology    35.0\n",
       "Name: Reaction Score, dtype: float64"
      ]
     },
     "execution_count": 63,
     "metadata": {},
     "output_type": "execute_result"
    }
   ],
   "source": [
    "df_top_5.groupby('Category')['Reaction Score'].median().sort_values(ascending=False)"
   ]
  },
  {
   "cell_type": "code",
   "execution_count": 64,
   "id": "cb5f73e7",
   "metadata": {},
   "outputs": [],
   "source": [
    "order=['travel', 'culture', 'fitness', 'science','technology']"
   ]
  },
  {
   "cell_type": "code",
   "execution_count": 65,
   "id": "7dcc5f7f",
   "metadata": {},
   "outputs": [
    {
     "data": {
      "text/plain": [
       "Text(0.5, 1.0, 'Minimum, First quartile [Q1], Median, Third quartile [Q3] and Maximum')"
      ]
     },
     "execution_count": 65,
     "metadata": {},
     "output_type": "execute_result"
    },
    {
     "data": {
      "image/png": "[encoded data removed]",
      "text/plain": [
       "<Figure size 720x576 with 1 Axes>"
      ]
     },
     "metadata": {
      "needs_background": "light"
     },
     "output_type": "display_data"
    }
   ],
   "source": [
    "plt.figure(figsize=(10,8))\n",
    "sns.boxplot(data=df_top_5, x='Category', y='Reaction Score', order=order)\n",
    "plt.title('Minimum, First quartile [Q1], Median, Third quartile [Q3] and Maximum')"
   ]
  },
  {
   "cell_type": "code",
   "execution_count": 67,
   "id": "b64f3f2b",
   "metadata": {},
   "outputs": [
    {
     "data": {
      "text/plain": [
       "<AxesSubplot:xlabel='Category', ylabel='Reaction Score'>"
      ]
     },
     "execution_count": 67,
     "metadata": {},
     "output_type": "execute_result"
    },
    {
     "data": {
      "image/png": "[encoded data removed]",
      "text/plain": [
       "<Figure size 432x288 with 1 Axes>"
      ]
     },
     "metadata": {
      "needs_background": "light"
     },
     "output_type": "display_data"
    }
   ],
   "source": [
    "sns.barplot(data=df_top_5, x='Category', y='Reaction Score')"
   ]
  },
  {
   "cell_type": "code",
   "execution_count": 71,
   "id": "781791dc",
   "metadata": {},
   "outputs": [
    {
     "data": {
      "text/plain": [
       "Text(0.5, 1.0, 'SUM of Reaction score per Category')"
      ]
     },
     "execution_count": 71,
     "metadata": {},
     "output_type": "execute_result"
    },
    {
     "data": {
      "image/png": "[encoded data removed]",
      "text/plain": [
       "<Figure size 720x576 with 1 Axes>"
      ]
     },
     "metadata": {
      "needs_background": "light"
     },
     "output_type": "display_data"
    }
   ],
   "source": [
    "plt.figure(figsize=(10,8))\n",
    "sns.barplot(data=df_top_5, x='Category', y='Reaction Score', estimator=np.sum, order=['travel','culture','science','technology','fitness'])\n",
    "plt.title('SUM of Reaction score per Category')"
   ]
  },
  {
   "cell_type": "code",
   "execution_count": 74,
   "id": "05e1116e",
   "metadata": {},
   "outputs": [],
   "source": [
    "top_5=pd.DataFrame(df_top_5.groupby('Category')['Reaction Score'].sum().sort_values(ascending=False)).reset_index()"
   ]
  },
  {
   "cell_type": "code",
   "execution_count": 82,
   "id": "672e01d3",
   "metadata": {},
   "outputs": [],
   "source": [
    "top_5['Postion']=pd.Series(list(range(1,6)))"
   ]
  },
  {
   "cell_type": "code",
   "execution_count": 83,
   "id": "36030e06",
   "metadata": {},
   "outputs": [
    {
     "data": {
      "text/html": [
       "<div>\n",
       "<style scoped>\n",
       "    .dataframe tbody tr th:only-of-type {\n",
       "        vertical-align: middle;\n",
       "    }\n",
       "\n",
       "    .dataframe tbody tr th {\n",
       "        vertical-align: top;\n",
       "    }\n",
       "\n",
       "    .dataframe thead th {\n",
       "        text-align: right;\n",
       "    }\n",
       "</style>\n",
       "<table border=\"1\" class=\"dataframe\">\n",
       "  <thead>\n",
       "    <tr style=\"text-align: right;\">\n",
       "      <th></th>\n",
       "      <th>Category</th>\n",
       "      <th>Reaction Score</th>\n",
       "      <th>Postion</th>\n",
       "    </tr>\n",
       "  </thead>\n",
       "  <tbody>\n",
       "    <tr>\n",
       "      <th>0</th>\n",
       "      <td>travel</td>\n",
       "      <td>2905.0</td>\n",
       "      <td>1</td>\n",
       "    </tr>\n",
       "    <tr>\n",
       "      <th>1</th>\n",
       "      <td>culture</td>\n",
       "      <td>2822.0</td>\n",
       "      <td>2</td>\n",
       "    </tr>\n",
       "    <tr>\n",
       "      <th>2</th>\n",
       "      <td>science</td>\n",
       "      <td>2603.0</td>\n",
       "      <td>3</td>\n",
       "    </tr>\n",
       "    <tr>\n",
       "      <th>3</th>\n",
       "      <td>technology</td>\n",
       "      <td>2567.0</td>\n",
       "      <td>4</td>\n",
       "    </tr>\n",
       "    <tr>\n",
       "      <th>4</th>\n",
       "      <td>fitness</td>\n",
       "      <td>2500.0</td>\n",
       "      <td>5</td>\n",
       "    </tr>\n",
       "  </tbody>\n",
       "</table>\n",
       "</div>"
      ],
      "text/plain": [
       "     Category  Reaction Score  Postion\n",
       "0      travel          2905.0        1\n",
       "1     culture          2822.0        2\n",
       "2     science          2603.0        3\n",
       "3  technology          2567.0        4\n",
       "4     fitness          2500.0        5"
      ]
     },
     "execution_count": 83,
     "metadata": {},
     "output_type": "execute_result"
    }
   ],
   "source": [
    "top_5"
   ]
  },
  {
   "cell_type": "code",
   "execution_count": 85,
   "id": "510b90a8",
   "metadata": {},
   "outputs": [
    {
     "data": {
      "text/plain": [
       "<AxesSubplot:xlabel='Category', ylabel='count'>"
      ]
     },
     "execution_count": 85,
     "metadata": {},
     "output_type": "execute_result"
    },
    {
     "data": {
      "image/png": "[encoded data removed]",
      "text/plain": [
       "<Figure size 432x288 with 1 Axes>"
      ]
     },
     "metadata": {
      "needs_background": "light"
     },
     "output_type": "display_data"
    }
   ],
   "source": [
    "sns.countplot(data=df_top_5, x='Category')"
   ]
  },
  {
   "cell_type": "code",
   "execution_count": 86,
   "id": "1e42df46",
   "metadata": {},
   "outputs": [
    {
     "data": {
      "text/plain": [
       "travel        69\n",
       "technology    68\n",
       "science       67\n",
       "culture       65\n",
       "fitness       61\n",
       "Name: Category, dtype: int64"
      ]
     },
     "execution_count": 86,
     "metadata": {},
     "output_type": "execute_result"
    }
   ],
   "source": [
    "df_top_5['Category'].value_counts()"
   ]
  },
  {
   "cell_type": "code",
   "execution_count": null,
   "id": "cedeb74b",
   "metadata": {},
   "outputs": [],
   "source": []
  }
 ],
 "metadata": {
  "kernelspec": {
   "display_name": "Python 3 (ipykernel)",
   "language": "python",
   "name": "python3"
  },
  "language_info": {
   "codemirror_mode": {
    "name": "ipython",
    "version": 3
   },
   "file_extension": ".py",
   "mimetype": "text/x-python",
   "name": "python",
   "nbconvert_exporter": "python",
   "pygments_lexer": "ipython3",
   "version": "3.11.7"
  }
 },
 "nbformat": 4,
 "nbformat_minor": 5
}
